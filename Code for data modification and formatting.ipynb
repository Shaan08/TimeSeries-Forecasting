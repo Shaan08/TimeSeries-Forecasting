{
 "cells": [
  {
   "cell_type": "code",
   "execution_count": 142,
   "metadata": {},
   "outputs": [],
   "source": [
    "import pandas as pd\n",
    "import matplotlib.pyplot as plt\n"
   ]
  },
  {
   "cell_type": "markdown",
   "metadata": {},
   "source": [
    "One of the most important things to do while reading data is to make sure that we parse the data into a \n",
    "datetime index format. When we read a csv file we have an integer column as the first column and the timecolumn is considered as\n",
    "a string datatype. \n",
    "\n",
    "So we write a small parsing condition to strip the timestamp column in time format with datetimeindex."
   ]
  },
  {
   "cell_type": "code",
   "execution_count": 143,
   "metadata": {},
   "outputs": [],
   "source": [
    "dateparse = lambda dates: pd.datetime.strptime(dates,'%Y-%m-%d %H:%M:%S')\n",
    "data = pd.read_csv(\"../Prashant July/Prashant_modified_new_data_cil.csv\",sep = ',',index_col='timestamp',date_parser=dateparse)\n",
    "data = data[['2','cpu','mem']]\n",
    "# There are more than one duplicate rows in our data. Need to eliminate that while comparing the values across all columns.\n",
    "data = data.drop_duplicates()\n"
   ]
  },
  {
   "cell_type": "code",
   "execution_count": 144,
   "metadata": {},
   "outputs": [],
   "source": [
    "%matplotlib inline\n",
    "resampled_data=data.resample('5Min').mean()\n",
    "\n"
   ]
  },
  {
   "cell_type": "code",
   "execution_count": 145,
   "metadata": {},
   "outputs": [],
   "source": [
    "# consider only cpu data as of now for all CIL instances. Data has already been resampled above for 20 seconds\n",
    "# just drop the mem column from our data to train the model using just cpu as data.\n",
    "\n",
    "%matplotlib inline\n",
    "#data.rename(columns={'2':'hostname'}, inplace=True)\n",
    "cpu_data = resampled_data.drop(['mem'],axis=1)\n"
   ]
  },
  {
   "cell_type": "code",
   "execution_count": 147,
   "metadata": {},
   "outputs": [],
   "source": [
    "#Exporting dataframe as csv for R\n",
    "cpu_data.to_csv('formatted_cpu_data_for_R_forecasting_5min.csv')"
   ]
  },
  {
   "cell_type": "code",
   "execution_count": 146,
   "metadata": {},
   "outputs": [
    {
     "data": {
      "text/plain": [
       "<matplotlib.axes._subplots.AxesSubplot at 0x7fb7f798bdd8>"
      ]
     },
     "execution_count": 146,
     "metadata": {},
     "output_type": "execute_result"
    },
    {
     "data": {
      "image/png": "[encoded data removed]",
      "text/plain": [
       "<matplotlib.figure.Figure at 0x7fb7f728f630>"
      ]
     },
     "metadata": {},
     "output_type": "display_data"
    }
   ],
   "source": [
    "from pandas.plotting import autocorrelation_plot\n",
    "autocorrelation_plot(cpu_data)"
   ]
  },
  {
   "cell_type": "code",
   "execution_count": null,
   "metadata": {},
   "outputs": [],
   "source": []
  },
  {
   "cell_type": "code",
   "execution_count": null,
   "metadata": {},
   "outputs": [],
   "source": [
    "\n"
   ]
  },
  {
   "cell_type": "code",
   "execution_count": null,
   "metadata": {},
   "outputs": [],
   "source": []
  },
  {
   "cell_type": "markdown",
   "metadata": {},
   "source": [
    "\n",
    "\n",
    "\n",
    "\n",
    "\n",
    "\n",
    "\n",
    "\n",
    "import numpy as np\n",
    "grouped = data.groupby('hostname')\n",
    "\n",
    "ncols=33\n",
    "nrows = int(np.ceil(grouped.ngroups/ncols))\n",
    "\n",
    "fig, axes = plt.subplots(nrows=nrows, ncols=ncols, figsize=(22,14), sharex=True)\n",
    "\n",
    "for (key, ax) in zip(grouped.groups.keys(), axes.flatten()):\n",
    "    grouped.get_group(key).plot(ax=ax)\n",
    "\n",
    "ax.legend()\n",
    "plt.show()\n",
    "\n",
    "rolling = series.rolling(window=1)\n",
    "rolling_mean = rolling.mean()\n",
    "print(rolling_mean.head(10))\n",
    "\n",
    "series.plot()\n",
    "rolling_mean.plot(color= 'red')\n",
    "plt.show()\n",
    "\n",
    "rolling_mean.to_csv('rollingcpu.csv')"
   ]
  }
 ],
 "metadata": {
  "kernelspec": {
   "display_name": "Python 3",
   "language": "python",
   "name": "python3"
  },
  "language_info": {
   "codemirror_mode": {
    "name": "ipython",
    "version": 3
   },
   "file_extension": ".py",
   "mimetype": "text/x-python",
   "name": "python",
   "nbconvert_exporter": "python",
   "pygments_lexer": "ipython3",
   "version": "3.5.2"
  }
 },
 "nbformat": 4,
 "nbformat_minor": 2
}
